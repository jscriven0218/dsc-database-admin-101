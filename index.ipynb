{
  "cells": [
    {
      "cell_type": "markdown",
      "metadata": {
        "id": "FT6XbsjERXxC"
      },
      "source": [
        "# Database Admin 101\n",
        "\n",
        "## Introduction\n",
        "\n",
        "Now that you've seen how to access and retrieve information from a SQL database, let's investigate how you could create or alter an existing database. Although there is still much to learn, this will lead you into the realm of database administration.\n",
        "\n",
        "## Objectives\n",
        "\n",
        "You will be able to:\n",
        "\n",
        "- Create a SQL database\n",
        "- Create a SQL table\n",
        "- Create rows in a SQL table\n",
        "- Alter entries in a SQL table\n",
        "- Delete entries in a SQL table\n",
        "- Determine when it is necessary to commit changes to a database\n",
        "- Commit changes via `sqlite3`"
      ]
    },
    {
      "cell_type": "markdown",
      "metadata": {
        "id": "7fzDn_sDRXxH"
      },
      "source": [
        "## Previewing Files in the Current Working Directory\n",
        "\n",
        "Remember that you can use the bash `ls` command to preview files and folders in the current working directory. Run the cell below to do just that!"
      ]
    },
    {
      "cell_type": "code",
      "execution_count": 2,
      "metadata": {
        "id": "90l8hvSURXxI",
        "outputId": "9d3dc309-029f-4971-db42-4c176297993e",
        "colab": {
          "base_uri": "https://localhost:8080/"
        }
      },
      "outputs": [
        {
          "output_type": "stream",
          "name": "stdout",
          "text": [
            "\u001b[0m\u001b[01;34msample_data\u001b[0m/\n"
          ]
        }
      ],
      "source": [
        "ls"
      ]
    },
    {
      "cell_type": "markdown",
      "metadata": {
        "id": "LXWqDF4KRXxK"
      },
      "source": [
        "## Creating a Database\n",
        "\n",
        "You've seen how to connect to a database, but did you know creating one is just as easy? All you have to do is create a connection to a non-existent database, and voilà! The database will be created simply by establishing a connection."
      ]
    },
    {
      "cell_type": "code",
      "execution_count": 3,
      "metadata": {
        "id": "cNXW9sugRXxK"
      },
      "outputs": [],
      "source": [
        "import sqlite3\n",
        "conn = sqlite3.connect('pets_database.db')\n",
        "cur = conn.cursor()"
      ]
    },
    {
      "cell_type": "markdown",
      "metadata": {
        "id": "mvU_LtDHRXxK"
      },
      "source": [
        "## Re-preview Files\n",
        "\n",
        "If you use the `ls` command once again, you should now see the pets_database.db file there."
      ]
    },
    {
      "cell_type": "code",
      "execution_count": 4,
      "metadata": {
        "id": "3NyooAOaRXxL",
        "outputId": "4dd2407d-d305-4798-cbd2-06db612b9473",
        "colab": {
          "base_uri": "https://localhost:8080/"
        }
      },
      "outputs": [
        {
          "output_type": "stream",
          "name": "stdout",
          "text": [
            "pets_database.db  \u001b[0m\u001b[01;34msample_data\u001b[0m/\n"
          ]
        }
      ],
      "source": [
        "ls"
      ]
    },
    {
      "cell_type": "markdown",
      "metadata": {
        "id": "25py4LJiRXxL"
      },
      "source": [
        "## Creating Tables\n",
        "\n",
        "Now that you have a database, let's create our cats table along with columns for id, name, age, and breed. Remember that we use our cursor to execute these SQL statements, and that the statements must be wrapped in quotes ('''SQL statement goes here''' or \"\"\"SQL statement goes here\"\"\"). Indenting portions of your queries can also make them much easier to read and debug.\n",
        "\n",
        "```python\n",
        "cur.execute(\"\"\"CREATE TABLE cats (\n",
        "                                id INTEGER PRIMARY KEY,\n",
        "                                name TEXT,\n",
        "                                age INTEGER,\n",
        "                                breed TEXT )\n",
        "            \"\"\")\n",
        "```"
      ]
    },
    {
      "cell_type": "code",
      "execution_count": 6,
      "metadata": {
        "id": "2Tdl2tPeRXxM",
        "outputId": "b84d1171-766c-407a-f8cc-ed25a89d6d25",
        "colab": {
          "base_uri": "https://localhost:8080/",
          "height": 211
        }
      },
      "outputs": [
        {
          "output_type": "error",
          "ename": "OperationalError",
          "evalue": "table cats already exists",
          "traceback": [
            "\u001b[0;31m---------------------------------------------------------------------------\u001b[0m",
            "\u001b[0;31mOperationalError\u001b[0m                          Traceback (most recent call last)",
            "\u001b[0;32m<ipython-input-6-5eab671d1522>\u001b[0m in \u001b[0;36m<cell line: 0>\u001b[0;34m()\u001b[0m\n\u001b[1;32m      1\u001b[0m \u001b[0;31m#Creating the cats table\u001b[0m\u001b[0;34m\u001b[0m\u001b[0;34m\u001b[0m\u001b[0m\n\u001b[0;32m----> 2\u001b[0;31m cur.execute(\"\"\"CREATE TABLE cats (\n\u001b[0m\u001b[1;32m      3\u001b[0m                                 \u001b[0mid\u001b[0m \u001b[0mINTEGER\u001b[0m \u001b[0mPRIMARY\u001b[0m \u001b[0mKEY\u001b[0m\u001b[0;34m,\u001b[0m\u001b[0;34m\u001b[0m\u001b[0;34m\u001b[0m\u001b[0m\n\u001b[1;32m      4\u001b[0m                                 \u001b[0mname\u001b[0m \u001b[0mTEXT\u001b[0m\u001b[0;34m,\u001b[0m\u001b[0;34m\u001b[0m\u001b[0;34m\u001b[0m\u001b[0m\n\u001b[1;32m      5\u001b[0m                                 \u001b[0mage\u001b[0m \u001b[0mINTEGER\u001b[0m\u001b[0;34m,\u001b[0m\u001b[0;34m\u001b[0m\u001b[0;34m\u001b[0m\u001b[0m\n",
            "\u001b[0;31mOperationalError\u001b[0m: table cats already exists"
          ]
        }
      ],
      "source": [
        "#Creating the cats table\n",
        "cur.execute(\"\"\"CREATE TABLE cats (\n",
        "                                id INTEGER PRIMARY KEY,\n",
        "                                name TEXT,\n",
        "                                age INTEGER,\n",
        "                                breed TEXT )\n",
        "            \"\"\")"
      ]
    },
    {
      "cell_type": "markdown",
      "metadata": {
        "id": "2ygt39tzRXxM"
      },
      "source": [
        "## Populating Tables\n",
        "\n",
        "In order to populate a table, you can use the `INSERT INTO` command, followed by the name of the table to which we want to add data. Then, in parentheses, we type the column names that we want to fill with data. This is followed by the `VALUES` keyword, which is accompanied by a parentheses enclosed list of the values that correspond to each column name.\n",
        "\n",
        "**Important**: Note that you don't have to specify the \"id\" column name or value. Primary Key columns are auto-incrementing. Therefore, since the cats table has an \"id\" column whose type is `INTEGER PRIMARY KEY`, you don't have to specify the id column values when you insert data.  As long as you have defined an id column with a data type of `INTEGER PRIMARY KEY`, a newly inserted row's id column will be automatically given the correct value.\n",
        "\n",
        "Okay, let's start storing some cats.\n",
        "\n",
        "### Code Along I: INSERT INTO\n",
        "\n",
        "To insert a record with values, type the following:\n",
        "\n",
        "```python\n",
        "cur.execute('''INSERT INTO cats (name, age, breed)\n",
        "                  VALUES ('Maru', 3, 'Scottish Fold');\n",
        "            ''')\n",
        "```"
      ]
    },
    {
      "cell_type": "code",
      "execution_count": 7,
      "metadata": {
        "id": "-fOqh2IhRXxM",
        "outputId": "c90cdcc4-2528-4c90-dd39-057b8a152b23",
        "colab": {
          "base_uri": "https://localhost:8080/"
        }
      },
      "outputs": [
        {
          "output_type": "execute_result",
          "data": {
            "text/plain": [
              "<sqlite3.Cursor at 0x7d5448fbdb40>"
            ]
          },
          "metadata": {},
          "execution_count": 7
        }
      ],
      "source": [
        "# insert Maru into the pet_database.db here\n",
        "cur.execute('''INSERT INTO cats (name, age, breed)\n",
        "                  VALUES ('Maru', 3, 'Scottish Fold');\n",
        "            ''')"
      ]
    },
    {
      "cell_type": "markdown",
      "metadata": {
        "id": "ZtT6pKsKRXxN"
      },
      "source": [
        "## Altering a Table\n",
        "\n",
        "You can also update a table like this: cursor.execute('''ALTER TABLE cats ADD COLUMN notes text;''')\n",
        "\n",
        "The general pattern is `ALTER TABLE table_name ADD COLUMN column_name column_type;`"
      ]
    },
    {
      "cell_type": "markdown",
      "metadata": {
        "id": "K0e-Fw1_RXxN"
      },
      "source": [
        "## Updating Data\n",
        "\n",
        "You use `UPDATE` keyword to change prexisting rows within a table.\n",
        "\n",
        "The `UPDATE` statement uses a `WHERE` clause to grab the row you want to update. It identifies the table name you are looking in and resets the data in a particular column to a new value.\n",
        "\n",
        "A boilerplate `UPDATE` statement looks like this:\n",
        "\n",
        "```python\n",
        "cur.execute('''UPDATE [table name]\n",
        "                  SET [column name] = [new value]\n",
        "                  WHERE [column name] = [value];\n",
        "            ''')\n",
        "```\n",
        "\n",
        "### Code Along II: UPDATE\n",
        "\n",
        "Let's update one of our cats. Turns out Maru's friend Hannah is actually Maru's friend Hana. Let's update that row to change the name to the correct spelling:\n",
        "\n",
        "```python\n",
        "cur.execute('''UPDATE cats SET name = \"Hana\" WHERE name = \"Hannah\";''')\n",
        "```"
      ]
    },
    {
      "cell_type": "code",
      "execution_count": 8,
      "metadata": {
        "id": "F2mmm2ObRXxN",
        "outputId": "2b60844b-8ea9-4416-bb06-67d818e6c484",
        "colab": {
          "base_uri": "https://localhost:8080/"
        }
      },
      "outputs": [
        {
          "output_type": "execute_result",
          "data": {
            "text/plain": [
              "<sqlite3.Cursor at 0x7d5448fbdb40>"
            ]
          },
          "metadata": {},
          "execution_count": 8
        }
      ],
      "source": [
        "# update hannah here\n",
        "cur.execute('''UPDATE cats SET name = \"Hana\" WHERE name = \"Hannah\";''')"
      ]
    },
    {
      "cell_type": "markdown",
      "metadata": {
        "id": "dqB2ELG4RXxN"
      },
      "source": [
        "## Deleting Data\n",
        "\n",
        "You use the `DELETE` keyword to delete table rows.\n",
        "\n",
        "Similar to the `UPDATE` keyword, the `DELETE` keyword uses a `WHERE` clause to select rows.\n",
        "\n",
        "A boilerplate `DELETE` statement looks like this:\n",
        "\n",
        "```python\n",
        "cur.execute('''DELETE FROM [table name] WHERE [column name] = [value];''')\n",
        "```\n",
        "\n",
        "### Code Along III: DELETE\n",
        "\n",
        "Let's go ahead and delete Lil' Bub from our cats table (sorry Lil' Bub):\n",
        "\n",
        "```python\n",
        "cur.execute('''DELETE FROM cats WHERE id = 2;''')\n",
        "```\n"
      ]
    },
    {
      "cell_type": "code",
      "execution_count": null,
      "metadata": {
        "id": "ewJen527RXxO",
        "outputId": "f0606cca-35ee-43da-9a19-7801639acb4f"
      },
      "outputs": [
        {
          "data": {
            "text/plain": [
              "<sqlite3.Cursor at 0x1071921f0>"
            ]
          },
          "execution_count": 7,
          "metadata": {},
          "output_type": "execute_result"
        }
      ],
      "source": [
        "# DELETE record with id=2 here\n",
        "cur.execute('''DELETE FROM cats WHERE id = 2;''')"
      ]
    },
    {
      "cell_type": "markdown",
      "metadata": {
        "id": "2nRSvs6CRXxO"
      },
      "source": [
        "Notice that this time we selected the row to delete using the `PRIMARY KEY` column. Remember that every table row has a `PRIMARY KEY` column that is unique. Lil' Bub was the second row in the database and thus had an id of 2."
      ]
    },
    {
      "cell_type": "markdown",
      "metadata": {
        "id": "oJRQxGD1RXxO"
      },
      "source": [
        "## Saving Changes\n",
        "\n",
        "While everything may look well and good, if you were to connect to the database from another Jupyter notebook (or elsewhere) the database would appear blank! That is, while the changes are reflected in your current session connection to the database you have yet to commit those changes to the master database so that other users and connections can also view the updates.  \n",
        "\n",
        "Before you commit the changes, let's demonstrate this concept.\n",
        "\n",
        "First, preview the results of the table:\n",
        "\n",
        "```python\n",
        "cur.execute(\"\"\"SELECT * FROM cats;\"\"\").fetchall()\n",
        "```"
      ]
    },
    {
      "cell_type": "code",
      "execution_count": 10,
      "metadata": {
        "id": "l38b_ZymRXxO",
        "outputId": "e547369d-92f7-49b4-aec9-7ca42774f6c8",
        "colab": {
          "base_uri": "https://localhost:8080/"
        }
      },
      "outputs": [
        {
          "output_type": "execute_result",
          "data": {
            "text/plain": [
              "[(1, 'Maru', 3, 'Scottish Fold')]"
            ]
          },
          "metadata": {},
          "execution_count": 10
        }
      ],
      "source": [
        "#Preview the table via the current cursor/connection\n",
        "cur.execute(\"\"\"SELECT * FROM cats;\"\"\").fetchall()"
      ]
    },
    {
      "cell_type": "markdown",
      "metadata": {
        "id": "idKcm55KRXxP"
      },
      "source": [
        "Now, to demonstrate that these changes aren't reflected to other connections to the database create a 2nd connection/cursor and run the same preview:\n",
        "\n",
        "```python\n",
        "conn2 = sqlite3.connect('pets_database.db')\n",
        "cur2 = conn2.cursor()\n",
        "cur2.execute(\"\"\"SELECT * FROM cats;\"\"\").fetchall()\n",
        "```"
      ]
    },
    {
      "cell_type": "code",
      "execution_count": 11,
      "metadata": {
        "id": "BJuvRmlwRXxP",
        "outputId": "a25d2fc7-629d-491e-d1a3-620daecde70b",
        "colab": {
          "base_uri": "https://localhost:8080/"
        }
      },
      "outputs": [
        {
          "output_type": "execute_result",
          "data": {
            "text/plain": [
              "[]"
            ]
          },
          "metadata": {},
          "execution_count": 11
        }
      ],
      "source": [
        "#Preview the table via a second current cursor/connection\n",
        "#Don't overwrite the previous connection: you'll lose all of your work!\n",
        "conn2 = sqlite3.connect('pets_database.db')\n",
        "cur2 = conn2.cursor()\n",
        "cur2.execute(\"\"\"SELECT * FROM cats;\"\"\").fetchall()"
      ]
    },
    {
      "cell_type": "markdown",
      "metadata": {
        "id": "2LVHHLf_RXxP"
      },
      "source": [
        "As you can see, the second connection doesn't currently display any data in the cats table! To make the changes universally accessible commit the changes.\n",
        "\n",
        "In this case:\n",
        "\n",
        "```python\n",
        "conn.commit()\n",
        "```"
      ]
    },
    {
      "cell_type": "code",
      "execution_count": 12,
      "metadata": {
        "id": "dBTP7GCwRXxQ"
      },
      "outputs": [],
      "source": [
        "# Commit your changes to the databaase\n",
        "conn.commit()"
      ]
    },
    {
      "cell_type": "markdown",
      "metadata": {
        "id": "6mnfky6pRXxQ"
      },
      "source": [
        "Now, if you reload your second connection, you should see the updates reflected in the data!\n",
        "\n",
        "```python\n",
        "conn2 = sqlite3.connect('pets_database.db')\n",
        "cur2 = conn2.cursor()\n",
        "cur2.execute(\"\"\"SELECT * FROM cats;\"\"\").fetchall()\n",
        "```"
      ]
    },
    {
      "cell_type": "code",
      "execution_count": null,
      "metadata": {
        "id": "BR46hh4-RXxQ",
        "outputId": "ac6bb4db-4d5e-4a5d-8abe-9b8c949db756"
      },
      "outputs": [
        {
          "data": {
            "text/plain": [
              "[(1, 'Maru', 3, 'Scottish Fold')]"
            ]
          },
          "execution_count": 11,
          "metadata": {},
          "output_type": "execute_result"
        }
      ],
      "source": [
        "#Preview the table via a reloaded second current cursor/connection\n",
        "conn2 = sqlite3.connect('pets_database.db')\n",
        "cur2 = conn2.cursor()\n",
        "cur2.execute(\"\"\"SELECT * FROM cats;\"\"\").fetchall()"
      ]
    },
    {
      "cell_type": "markdown",
      "metadata": {
        "id": "kd5rpd_pRXxQ"
      },
      "source": [
        "## Summary\n",
        "\n",
        "Congrats! In this lesson, you learned how to create, edit, and delete tables and databases using SQL!"
      ]
    }
  ],
  "metadata": {
    "kernelspec": {
      "display_name": "Python (learn-env)",
      "language": "python",
      "name": "learn-env"
    },
    "language_info": {
      "codemirror_mode": {
        "name": "ipython",
        "version": 3
      },
      "file_extension": ".py",
      "mimetype": "text/x-python",
      "name": "python",
      "nbconvert_exporter": "python",
      "pygments_lexer": "ipython3",
      "version": "3.8.5"
    },
    "toc": {
      "base_numbering": 1,
      "nav_menu": {},
      "number_sections": true,
      "sideBar": true,
      "skip_h1_title": false,
      "title_cell": "Table of Contents",
      "title_sidebar": "Contents",
      "toc_cell": false,
      "toc_position": {},
      "toc_section_display": true,
      "toc_window_display": false
    },
    "colab": {
      "provenance": []
    }
  },
  "nbformat": 4,
  "nbformat_minor": 0
}